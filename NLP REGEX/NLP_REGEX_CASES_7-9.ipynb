{
  "nbformat": 4,
  "nbformat_minor": 0,
  "metadata": {
    "colab": {
      "provenance": []
    },
    "kernelspec": {
      "name": "python3",
      "display_name": "Python 3"
    },
    "language_info": {
      "name": "python"
    }
  },
  "cells": [
    {
      "cell_type": "markdown",
      "source": [
        "# Angka Desimal"
      ],
      "metadata": {
        "id": "IVQr5QIrxl_T"
      }
    },
    {
      "cell_type": "markdown",
      "source": [
        "### Penjelasan Regex `\\b\\d+(\\.\\d+)?\\b`\n",
        "\n",
        "- **`\\b`**: Menandai batas kata, memastikan pencocokan dimulai dan diakhiri pada batas kata.\n",
        "- **`\\d+`**: Mencocokkan satu atau lebih digit angka (0-9). Ini menangani bagian integer dari angka.\n",
        "- **`(\\.\\d+)?`**: Mencocokkan bagian desimal dari angka, jika ada:\n",
        "  - **`\\.`**: Karakter literal titik desimal.\n",
        "  - **`\\d+`**: Mencocokkan satu atau lebih digit angka setelah titik desimal.\n",
        "  - **`?`**: Menandai bahwa bagian desimal opsional, jadi pola ini dapat mencocokkan angka bulat atau desimal.\n",
        "- **`\\b`**: Menandai batas kata di akhir, memastikan pencocokan diakhiri pada batas kata."
      ],
      "metadata": {
        "id": "ludCIQCkxomJ"
      }
    },
    {
      "cell_type": "code",
      "source": [
        "import re\n",
        "sentence = \"Nilai rata-rata siswa semester ini adalah 85.75.\"\n",
        "regex_code = r'\\b\\d+(\\.\\d+)?\\b'\n",
        "\n",
        "decimal = re.search(regex_code, sentence)\n",
        "print(decimal.group() if decimal else \"Not match\")"
      ],
      "metadata": {
        "colab": {
          "base_uri": "https://localhost:8080/"
        },
        "id": "vFrfvoevxmfk",
        "outputId": "26d9d2be-4ade-41e7-dd7b-220c86977df3"
      },
      "execution_count": 1,
      "outputs": [
        {
          "output_type": "stream",
          "name": "stdout",
          "text": [
            "85.75\n"
          ]
        }
      ]
    },
    {
      "cell_type": "markdown",
      "source": [
        "# Huruf Kapital"
      ],
      "metadata": {
        "id": "Vmqgkxjix-7m"
      }
    },
    {
      "cell_type": "markdown",
      "source": [
        "### Penjelasan Regex `\\b[A-Z][a-z]*\\b`\n",
        "\n",
        "- **`\\b`**: Menandai batas kata, memastikan pencocokan dimulai dan diakhiri pada batas kata.\n",
        "- **`[A-Z]`**: Mencocokkan satu huruf kapital (A-Z). Ini adalah huruf pertama dari kata yang dicocokkan.\n",
        "- **`[a-z]*`**: Mencocokkan nol atau lebih huruf kecil (a-z) setelah huruf kapital. Ini menangani sisa huruf dalam kata.\n",
        "- **`\\b`**: Menandai batas kata di akhir, memastikan pencocokan diakhiri pada batas kata."
      ],
      "metadata": {
        "id": "lrd4iGZyyqM_"
      }
    },
    {
      "cell_type": "code",
      "source": [
        "sentence = \"Indonesia adalah negara kepulauan terbesar di dunia.\"\n",
        "regex_code = r'\\b[A-Z][a-z]*\\b'\n",
        "\n",
        "capital = re.search(regex_code, sentence)\n",
        "print(capital.group() if capital else \"Not match\")"
      ],
      "metadata": {
        "colab": {
          "base_uri": "https://localhost:8080/"
        },
        "id": "v3lkv330x4Om",
        "outputId": "23b03da1-a9a6-4312-b0e9-ee575c6d2641"
      },
      "execution_count": 2,
      "outputs": [
        {
          "output_type": "stream",
          "name": "stdout",
          "text": [
            "Indonesia\n"
          ]
        }
      ]
    },
    {
      "cell_type": "markdown",
      "source": [
        "# Nomor Kartu Kredit"
      ],
      "metadata": {
        "id": "9OR90vGNyQDr"
      }
    },
    {
      "cell_type": "markdown",
      "source": [
        "### Penjelasan Regex `\\b\\d{4}[- ]?\\d{4}[- ]?\\d{4}[- ]?\\d{4}\\b`\n",
        "\n",
        "- **`\\b`**: Menandai batas kata, memastikan pencocokan dimulai dan diakhiri pada batas kata.\n",
        "- **`\\d{4}`**: Mencocokkan tepat 4 digit angka. Ini mencocokkan setiap bagian dari nomor kartu kredit.\n",
        "- **`[- ]?`**: Mencocokkan satu karakter dash (`-`) atau spasi (` `) yang mungkin ada sebagai pemisah antara grup digit. Tanda tanya (`?`) menunjukkan bahwa karakter ini opsional.\n",
        "- **`\\d{4}`**: Mencocokkan 4 digit angka berikutnya.\n",
        "- **`[- ]?`**: Mencocokkan pemisah opsional lagi.\n",
        "- **`\\d{4}`**: Mencocokkan 4 digit angka berikutnya.\n",
        "- **`[- ]?`**: Mencocokkan pemisah opsional lagi.\n",
        "- **`\\d{4}`**: Mencocokkan 4 digit angka terakhir.\n",
        "- **`\\b`**: Menandai batas kata di akhir, memastikan pencocokan diakhiri pada batas kata."
      ],
      "metadata": {
        "id": "uMyyswTNyt_X"
      }
    },
    {
      "cell_type": "code",
      "source": [
        "sentence = \"Nomor kartu kredit Anda adalah 1234-5678-1234-5678.\"\n",
        "regex_code = r'\\b\\d{4}[- ]?\\d{4}[- ]?\\d{4}[- ]?\\d{4}\\b'\n",
        "\n",
        "no_kredit = re.search(regex_code, sentence)\n",
        "print(no_kredit.group() if no_kredit else \"Not match\")"
      ],
      "metadata": {
        "colab": {
          "base_uri": "https://localhost:8080/"
        },
        "id": "_TsqRfWDyMHt",
        "outputId": "95ed8a1b-1375-44d0-ee35-c8381a60f622"
      },
      "execution_count": 3,
      "outputs": [
        {
          "output_type": "stream",
          "name": "stdout",
          "text": [
            "1234-5678-1234-5678\n"
          ]
        }
      ]
    },
    {
      "cell_type": "code",
      "source": [],
      "metadata": {
        "id": "Dqsxi7USylGc"
      },
      "execution_count": null,
      "outputs": []
    }
  ]
}
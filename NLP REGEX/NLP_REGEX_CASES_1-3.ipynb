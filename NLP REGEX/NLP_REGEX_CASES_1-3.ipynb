{
  "nbformat": 4,
  "nbformat_minor": 0,
  "metadata": {
    "colab": {
      "provenance": []
    },
    "kernelspec": {
      "name": "python3",
      "display_name": "Python 3"
    },
    "language_info": {
      "name": "python"
    }
  },
  "cells": [
    {
      "cell_type": "markdown",
      "source": [
        "# Email"
      ],
      "metadata": {
        "id": "9sJ3g9SeX-Hg"
      }
    },
    {
      "cell_type": "markdown",
      "source": [
        "**Penjelasan Regex:**\n",
        "\n",
        "- `\\b`: Word boundary (batas kata).\n",
        "- `[A-Za-z0-9._%+-]+`: Bagian pertama dari email, mencakup huruf, angka, dan beberapa simbol yang diizinkan.\n",
        "- `@`: Karakter literal untuk memisahkan bagian lokal dan domain email.\n",
        "- `[A-Za-z0-9.-]+`: Nama domain yang diizinkan.\n",
        "- `\\.`: Karakter titik literal yang memisahkan domain dan ekstensi.\n",
        "- `[A-Za-z]{2,}`: TLD (Top-Level Domain) yang berisi setidaknya dua huruf.\n",
        "- `\\b`: Menutup batas kata."
      ],
      "metadata": {
        "id": "VjJ5ObT0Yq2D"
      }
    },
    {
      "cell_type": "code",
      "source": [
        "import re\n",
        "sentence = \"Silakan kirim email ke saya di alamat john.doe@gmail.com.\"\n",
        "regex_code = r'\\b[A-Za-z0-9._%+-]+@[A-Za-z0-9.-]+\\.[A-Za-z]{2,}\\b'\n",
        "\n",
        "email = re.search(regex_code, sentence)\n",
        "print(email.group() if email else \"No match\")"
      ],
      "metadata": {
        "colab": {
          "base_uri": "https://localhost:8080/"
        },
        "id": "n9Zxb-V-YAM-",
        "outputId": "7c913d12-7ada-4115-c286-0225d869ea83"
      },
      "execution_count": 2,
      "outputs": [
        {
          "output_type": "stream",
          "name": "stdout",
          "text": [
            "john.doe@gmail.com\n"
          ]
        }
      ]
    },
    {
      "cell_type": "markdown",
      "source": [
        "# Nomor Telepon"
      ],
      "metadata": {
        "id": "J1IMlG0fZa0M"
      }
    },
    {
      "cell_type": "markdown",
      "source": [
        "**Penjelasan Regex:**\n",
        "\n",
        "- `\\+?`: Mencocokkan tanda `+` (opsional).\n",
        "- `\\d{1,3}`: Mencocokkan 1 hingga 3 digit (biasanya kode negara, misalnya `+62`).\n",
        "- `[- ]?`: Mencocokkan spasi atau tanda `-` (opsional).\n",
        "- `\\(?\\d{2,3}\\)?`: Mencocokkan 2 atau 3 digit kode area, yang mungkin berada dalam tanda kurung `()`.\n",
        "- `[- ]?`: Mencocokkan spasi atau tanda `-` (opsional).\n",
        "- `\\d{3,4}`: Mencocokkan 3 atau 4 digit pertama dari nomor telepon.\n",
        "- `[- ]?`: Mencocokkan spasi atau tanda `-` (opsional).\n",
        "- `\\d{3,4}`: Mencocokkan 3 atau 4 digit terakhir dari nomor telepon."
      ],
      "metadata": {
        "id": "pkj1RPXSaWmU"
      }
    },
    {
      "cell_type": "code",
      "source": [
        "sentence = \"Hubungi saya di nomor telepon +62 812-3456-7890.\"\n",
        "regex_code = r'\\+?\\d{1,3}[- ]?\\(?\\d{2,3}\\)?[- ]?\\d{3,4}[- ]?\\d{3,4}'\n",
        "\n",
        "no_telp = re.search(regex_code, sentence)\n",
        "print(no_telp.group() if no_telp else \"No match\")"
      ],
      "metadata": {
        "colab": {
          "base_uri": "https://localhost:8080/"
        },
        "id": "wTzhiZetYRjG",
        "outputId": "534e95fc-4493-4a5e-d98e-3c59777c25f5"
      },
      "execution_count": 4,
      "outputs": [
        {
          "output_type": "stream",
          "name": "stdout",
          "text": [
            "+62 812-3456-7890\n"
          ]
        }
      ]
    },
    {
      "cell_type": "markdown",
      "source": [
        "# URL"
      ],
      "metadata": {
        "id": "NdIDAVSDZ5HI"
      }
    },
    {
      "cell_type": "markdown",
      "source": [
        "**Penjelasan Regex untuk URL:**\n",
        "\n",
        "- `https?`: Mencocokkan `http` atau `https`. Tanda tanya `?` membuat `s` opsional.\n",
        "- `:\\/\\/`: Mencocokkan literal `://`.\n",
        "- `(www\\.)?`: Mencocokkan `www.` jika ada. Ini opsional karena tanda `?` setelahnya.\n",
        "- `[A-Za-z0-9.-]+`: Mencocokkan nama domain yang terdiri dari huruf besar/kecil, angka, titik (`.`), atau tanda minus (`-`).\n",
        "- `\\.`: Karakter literal titik (`.`) yang memisahkan nama domain dan TLD.\n",
        "- `[A-Za-z]{2,6}`: Mencocokkan Top-Level Domain (TLD) yang memiliki panjang antara 2 hingga 6 karakter (misalnya, `com`, `net`, `org`).\n",
        "- `\\/?`: Mencocokkan slash (`/`) di akhir URL, opsional karena tanda `?`."
      ],
      "metadata": {
        "id": "QJdGxNYPasSN"
      }
    },
    {
      "cell_type": "code",
      "source": [
        "sentence = \"Untuk informasi lebih lanjut, kunjungi situs kami di https://www.contoh.com.\"\n",
        "regex_code = r'https?:\\/\\/(www\\.)?[A-Za-z0-9.-]+\\.[A-Za-z]{2,6}\\/?'\n",
        "\n",
        "url = re.search(regex_code, sentence)\n",
        "print(url.group() if url else \"No match\")"
      ],
      "metadata": {
        "colab": {
          "base_uri": "https://localhost:8080/"
        },
        "id": "VU7DWnBaZrbp",
        "outputId": "3c059351-82e2-4432-ff94-29149ed2eb93"
      },
      "execution_count": 6,
      "outputs": [
        {
          "output_type": "stream",
          "name": "stdout",
          "text": [
            "https://www.contoh.com\n"
          ]
        }
      ]
    },
    {
      "cell_type": "code",
      "source": [],
      "metadata": {
        "id": "V0dYnQCIaL_K"
      },
      "execution_count": null,
      "outputs": []
    }
  ]
}
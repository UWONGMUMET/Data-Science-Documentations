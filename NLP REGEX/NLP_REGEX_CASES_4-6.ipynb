{
  "nbformat": 4,
  "nbformat_minor": 0,
  "metadata": {
    "colab": {
      "provenance": []
    },
    "kernelspec": {
      "name": "python3",
      "display_name": "Python 3"
    },
    "language_info": {
      "name": "python"
    }
  },
  "cells": [
    {
      "cell_type": "markdown",
      "source": [
        "# Kode Pos"
      ],
      "metadata": {
        "id": "fO0I2nXDgd9R"
      }
    },
    {
      "cell_type": "markdown",
      "source": [
        "### Penjelasan Regex `\\d{5}`\n",
        "\n",
        "- **`\\d`**: Mencocokkan satu digit angka (0-9).\n",
        "- **`{5}`**: Mencocokkan tepat 5 kali dari pola sebelumnya (`\\d`).\n",
        "\n"
      ],
      "metadata": {
        "id": "cGtPSgRGhhwX"
      }
    },
    {
      "cell_type": "code",
      "source": [
        "import re\n",
        "sentence = \"Alamat saya berada di daerah dengan kode pos 12345.\"\n",
        "regex_code = r'\\d{5}'\n",
        "\n",
        "pos = re.search(regex_code, sentence)\n",
        "print(pos.group() if pos else \"No match\")"
      ],
      "metadata": {
        "colab": {
          "base_uri": "https://localhost:8080/"
        },
        "id": "eN8UVCYKgmop",
        "outputId": "43f9919f-69f3-47e0-bee5-f0aa9ceb361d"
      },
      "execution_count": 3,
      "outputs": [
        {
          "output_type": "stream",
          "name": "stdout",
          "text": [
            "12345\n"
          ]
        }
      ]
    },
    {
      "cell_type": "markdown",
      "source": [
        "# Tanggal DD/MM/YYYY"
      ],
      "metadata": {
        "id": "acrx_d-LhqlQ"
      }
    },
    {
      "cell_type": "markdown",
      "source": [
        "### Penjelasan Regex `\\b(0[1-9]|[12][0-9]|3[01])/(0[1-9]|1[0-2])/\\d{4}\\b`\n",
        "\n",
        "- **`\\b`**: Menandai batas kata, memastikan pencocokan dimulai dan diakhiri pada batas kata.\n",
        "- **`(0[1-9]|[12][0-9]|3[01])`**: Mencocokkan hari dalam format:\n",
        "  - `0[1-9]`: Angka dari 01 sampai 09.\n",
        "  - `[12][0-9]`: Angka dari 10 sampai 29.\n",
        "  - `3[01]`: Angka 30 atau 31.\n",
        "- **`/`**: Karakter literal slash sebagai pemisah.\n",
        "- **`(0[1-9]|1[0-2])`**: Mencocokkan bulan dalam format:\n",
        "  - `0[1-9]`: Bulan dari 01 sampai 09.\n",
        "  - `1[0-2]`: Bulan 10 sampai 12.\n",
        "- **`/\\d{4}`**: Mencocokkan tahun dalam format empat digit.\n",
        "- **`\\b`**: Menandai batas kata di akhir, memastikan pencocokan diakhiri pada batas kata."
      ],
      "metadata": {
        "id": "SILtAwZSiS2N"
      }
    },
    {
      "cell_type": "code",
      "source": [
        "sentence = \"Pertemuan akan diadakan pada tanggal 25/12/2023.\"\n",
        "regex_code = r'\\b(0[1-9]|[12][0-9]|3[01])/(0[1-9]|1[0-2])/\\d{4}\\b'\n",
        "\n",
        "tanggal_1 = re.search(regex_code, sentence)\n",
        "print(tanggal_1.group() if tanggal_1 else \"No match\")"
      ],
      "metadata": {
        "colab": {
          "base_uri": "https://localhost:8080/"
        },
        "id": "5lv_ZS7jg9ot",
        "outputId": "0e00a4c0-925e-4c49-b037-a46f3c477b81"
      },
      "execution_count": 5,
      "outputs": [
        {
          "output_type": "stream",
          "name": "stdout",
          "text": [
            "25/12/2023\n"
          ]
        }
      ]
    },
    {
      "cell_type": "markdown",
      "source": [
        "# Tanggal YYYY-MM-DD"
      ],
      "metadata": {
        "id": "eVz56e9mihGr"
      }
    },
    {
      "cell_type": "markdown",
      "source": [
        "### Penjelasan Regex `\\b\\d{4}-(0[1-9]|1[0-2])-(0[1-9]|[12][0-9]|3[01])\\b`\n",
        "\n",
        "- **`\\b`**: Menandai batas kata, memastikan pencocokan dimulai dan diakhiri pada batas kata.\n",
        "- **`\\d{4}`**: Mencocokkan tahun dalam format empat digit (misalnya, `2023`).\n",
        "- **`-`**: Karakter literal dash sebagai pemisah antara tahun, bulan, dan hari.\n",
        "- **`(0[1-9]|1[0-2])`**: Mencocokkan bulan dalam format:\n",
        "  - `0[1-9]`: Bulan dari 01 sampai 09.\n",
        "  - `1[0-2]`: Bulan 10 sampai 12.\n",
        "- **`-(0[1-9]|[12][0-9]|3[01])`**: Mencocokkan hari dalam format:\n",
        "  - `0[1-9]`: Hari dari 01 sampai 09.\n",
        "  - `[12][0-9]`: Hari dari 10 sampai 29.\n",
        "  - `3[01]`: Hari 30 atau 31.\n",
        "- **`\\b`**: Menandai batas kata di akhir, memastikan pencocokan diakhiri pada batas kata.\n",
        "\n"
      ],
      "metadata": {
        "id": "2cD08f5ziy8N"
      }
    },
    {
      "cell_type": "code",
      "source": [
        "sentence = \"Batas pengumpulan tugas adalah 2023-09-07.\"\n",
        "regex_code = r'\\b\\d{4}-(0[1-9]|1[0-2])-(0[1-9]|[12][0-9]|3[01])\\b'\n",
        "\n",
        "tanggal_2 = re.search(regex_code, sentence)\n",
        "print(tanggal_2.group() if tanggal_2 else \"No match\")"
      ],
      "metadata": {
        "colab": {
          "base_uri": "https://localhost:8080/"
        },
        "id": "QA0YIb-ihROP",
        "outputId": "519a50c7-40d7-4600-bc5d-8232fdbbd94b"
      },
      "execution_count": 6,
      "outputs": [
        {
          "output_type": "stream",
          "name": "stdout",
          "text": [
            "2023-09-07\n"
          ]
        }
      ]
    },
    {
      "cell_type": "code",
      "source": [],
      "metadata": {
        "id": "G6t9bFQpiqnK"
      },
      "execution_count": null,
      "outputs": []
    }
  ]
}